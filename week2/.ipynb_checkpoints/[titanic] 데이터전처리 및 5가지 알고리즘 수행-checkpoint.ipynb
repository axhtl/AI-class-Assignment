{
 "cells": [
  {
   "cell_type": "markdown",
   "id": "ef44ad20-c083-415b-99cb-f8493b6ad89c",
   "metadata": {},
   "source": [
    "### 데이터 로딩"
   ]
  },
  {
   "cell_type": "code",
   "execution_count": 1,
   "id": "c82e9027-7ede-4d5c-b054-efc8d6448fbe",
   "metadata": {},
   "outputs": [
    {
     "name": "stdout",
     "output_type": "stream",
     "text": [
      "   PassengerId  Survived  Pclass  \\\n",
      "0            1         0       3   \n",
      "1            2         1       1   \n",
      "2            3         1       3   \n",
      "3            4         1       1   \n",
      "4            5         0       3   \n",
      "\n",
      "                                                Name     Sex   Age  SibSp  \\\n",
      "0                            Braund, Mr. Owen Harris    male  22.0      1   \n",
      "1  Cumings, Mrs. John Bradley (Florence Briggs Th...  female  38.0      1   \n",
      "2                             Heikkinen, Miss. Laina  female  26.0      0   \n",
      "3       Futrelle, Mrs. Jacques Heath (Lily May Peel)  female  35.0      1   \n",
      "4                           Allen, Mr. William Henry    male  35.0      0   \n",
      "\n",
      "   Parch            Ticket     Fare Cabin Embarked  \n",
      "0      0         A/5 21171   7.2500   NaN        S  \n",
      "1      0          PC 17599  71.2833   C85        C  \n",
      "2      0  STON/O2. 3101282   7.9250   NaN        S  \n",
      "3      0            113803  53.1000  C123        S  \n",
      "4      0            373450   8.0500   NaN        S  \n",
      "Index(['PassengerId', 'Survived', 'Pclass', 'Name', 'Sex', 'Age', 'SibSp',\n",
      "       'Parch', 'Ticket', 'Fare', 'Cabin', 'Embarked'],\n",
      "      dtype='object')\n"
     ]
    }
   ],
   "source": [
    "import pandas as pd\n",
    "from sklearn.model_selection import train_test_split\n",
    "from sklearn.preprocessing import StandardScaler, LabelEncoder\n",
    "from sklearn.tree import DecisionTreeClassifier\n",
    "from sklearn.linear_model import LogisticRegression\n",
    "from sklearn.svm import SVC\n",
    "from sklearn.ensemble import RandomForestClassifier\n",
    "from sklearn.metrics import accuracy_score\n",
    "from sklearn.metrics import confusion_matrix\n",
    "\n",
    "# 1. 데이터 로딩\n",
    "file_path = \"C:\\\\Users\\\\axhtl\\\\OneDrive\\\\바탕 화면\\\\학교\\\\인공지능개론\\\\titanic.csv\"\n",
    "df = pd.read_csv(file_path)\n",
    "\n",
    "# 데이터프레임 확인\n",
    "print(df.head())\n",
    "# 컬럼명 확인\n",
    "print(df.columns)"
   ]
  },
  {
   "cell_type": "code",
   "execution_count": 2,
   "id": "6a72501c-b64f-4df9-8f5e-4267019d83a5",
   "metadata": {},
   "outputs": [
    {
     "data": {
      "text/plain": [
       "PassengerId      0\n",
       "Survived         0\n",
       "Pclass           0\n",
       "Name             0\n",
       "Sex              0\n",
       "Age            177\n",
       "SibSp            0\n",
       "Parch            0\n",
       "Ticket           0\n",
       "Fare             0\n",
       "Cabin          687\n",
       "Embarked         2\n",
       "dtype: int64"
      ]
     },
     "execution_count": 2,
     "metadata": {},
     "output_type": "execute_result"
    }
   ],
   "source": [
    "# 2. 결측치 확인\n",
    "df.isnull().sum()"
   ]
  },
  {
   "cell_type": "code",
   "execution_count": 3,
   "id": "af05af47-c847-4764-8ae7-45a48ae13709",
   "metadata": {},
   "outputs": [
    {
     "name": "stdout",
     "output_type": "stream",
     "text": [
      "   PassengerId  Survived  Pclass  \\\n",
      "0            1         0       3   \n",
      "1            2         1       1   \n",
      "2            3         1       3   \n",
      "3            4         1       1   \n",
      "4            5         0       3   \n",
      "\n",
      "                                                Name     Sex   Age  SibSp  \\\n",
      "0                            Braund, Mr. Owen Harris    male  22.0      1   \n",
      "1  Cumings, Mrs. John Bradley (Florence Briggs Th...  female  38.0      1   \n",
      "2                             Heikkinen, Miss. Laina  female  26.0      0   \n",
      "3       Futrelle, Mrs. Jacques Heath (Lily May Peel)  female  35.0      1   \n",
      "4                           Allen, Mr. William Henry    male  35.0      0   \n",
      "\n",
      "   Parch            Ticket     Fare Cabin Embarked  \n",
      "0      0         A/5 21171   7.2500   NaN        S  \n",
      "1      0          PC 17599  71.2833   C85        C  \n",
      "2      0  STON/O2. 3101282   7.9250   NaN        S  \n",
      "3      0            113803  53.1000  C123        S  \n",
      "4      0            373450   8.0500   NaN        S  \n"
     ]
    },
    {
     "data": {
      "text/plain": [
       "Survived\n",
       "0    549\n",
       "1    342\n",
       "Name: count, dtype: int64"
      ]
     },
     "execution_count": 3,
     "metadata": {},
     "output_type": "execute_result"
    }
   ],
   "source": [
    "# 3. 결측치 제거\n",
    "# 'Age' 칼럼의 평균값 계산\n",
    "mean_age = df['Age'].mean()\n",
    "\n",
    "# 'Age' 칼럼의 결측치를 평균값으로 채우기\n",
    "df['Age'] = df['Age'].fillna(mean_age)\n",
    "\n",
    "# 변환된 데이터프레임 확인\n",
    "print(df.head())\n",
    "\n",
    "# 4. 레이블 확인\n",
    "df['Survived'].value_counts()"
   ]
  },
  {
   "cell_type": "code",
   "execution_count": 4,
   "id": "45537f81-4d34-41fd-92c4-06ac3fe0fcf7",
   "metadata": {},
   "outputs": [
    {
     "name": "stdout",
     "output_type": "stream",
     "text": [
      "   PassengerId  Survived  Pclass     Sex   Age  SibSp  Parch     Fare Embarked\n",
      "0            1         0       3    male  22.0      1      0   7.2500        S\n",
      "1            2         1       1  female  38.0      1      0  71.2833        C\n",
      "2            3         1       3  female  26.0      0      0   7.9250        S\n",
      "3            4         1       1  female  35.0      1      0  53.1000        S\n",
      "4            5         0       3    male  35.0      0      0   8.0500        S\n"
     ]
    }
   ],
   "source": [
    "# 5. 불필요한 컬럼 제거\n",
    "columns_to_drop = ['Name', 'Ticket', 'Cabin']  # 삭제할 컬럼 목록\n",
    "df = df.drop(columns=columns_to_drop)\n",
    "\n",
    "# 변환된 데이터프레임 확인\n",
    "print(df.head())"
   ]
  },
  {
   "cell_type": "code",
   "execution_count": 5,
   "id": "23678187-dcbc-4878-aeb9-c21e4f0c0035",
   "metadata": {},
   "outputs": [
    {
     "data": {
      "text/plain": [
       "Survived\n",
       "0    549\n",
       "1    342\n",
       "Name: count, dtype: int64"
      ]
     },
     "execution_count": 5,
     "metadata": {},
     "output_type": "execute_result"
    }
   ],
   "source": [
    "# 숫자 변환 전 레이블 갯수\n",
    "df['Survived'].value_counts()"
   ]
  },
  {
   "cell_type": "code",
   "execution_count": 6,
   "id": "ce6b3c81-20a4-4c34-b464-5585614874a0",
   "metadata": {},
   "outputs": [
    {
     "name": "stdout",
     "output_type": "stream",
     "text": [
      "     PassengerId  Survived  Pclass  Sex        Age  SibSp  Parch     Fare  \\\n",
      "0              1         0       3    1  22.000000      1      0   7.2500   \n",
      "1              2         1       1    0  38.000000      1      0  71.2833   \n",
      "2              3         1       3    0  26.000000      0      0   7.9250   \n",
      "3              4         1       1    0  35.000000      1      0  53.1000   \n",
      "4              5         0       3    1  35.000000      0      0   8.0500   \n",
      "..           ...       ...     ...  ...        ...    ...    ...      ...   \n",
      "886          887         0       2    1  27.000000      0      0  13.0000   \n",
      "887          888         1       1    0  19.000000      0      0  30.0000   \n",
      "888          889         0       3    0  29.699118      1      2  23.4500   \n",
      "889          890         1       1    1  26.000000      0      0  30.0000   \n",
      "890          891         0       3    1  32.000000      0      0   7.7500   \n",
      "\n",
      "     Embarked  \n",
      "0           2  \n",
      "1           0  \n",
      "2           2  \n",
      "3           2  \n",
      "4           2  \n",
      "..        ...  \n",
      "886         2  \n",
      "887         2  \n",
      "888         2  \n",
      "889         0  \n",
      "890         1  \n",
      "\n",
      "[891 rows x 9 columns]\n"
     ]
    },
    {
     "data": {
      "text/plain": [
       "Survived\n",
       "0    549\n",
       "1    342\n",
       "Name: count, dtype: int64"
      ]
     },
     "execution_count": 6,
     "metadata": {},
     "output_type": "execute_result"
    }
   ],
   "source": [
    "from sklearn.preprocessing import LabelEncoder\n",
    "\n",
    "# 6. 엔코딩\n",
    "# LabelEncoder 초기화\n",
    "label_encoder = LabelEncoder()\n",
    "\n",
    "#  컬럼에 LabelEncoder 적용\n",
    "columns_to_encode = ['Sex','Embarked'] # 인코딩할 컬럼 리스트\n",
    "for column in columns_to_encode:\n",
    "    df[column] = label_encoder.fit_transform(df[column])\n",
    "\n",
    "print(df)\n",
    "\n",
    "# 숫자 변환 후 레이블 갯수\n",
    "df['Survived'].value_counts()"
   ]
  },
  {
   "cell_type": "code",
   "execution_count": 7,
   "id": "243cea25-06df-4833-a462-481429f731fd",
   "metadata": {},
   "outputs": [],
   "source": [
    "# 특성과 타겟 분리\n",
    "X = df.iloc[:, :-1]  # 마지막 열 제외 (특성)\n",
    "y = df.iloc[:, -1]   # 마지막 열 (클래스)\n",
    "\n",
    "# 데이터 분할\n",
    "X_train, X_test, y_train, y_test = train_test_split(X, y, test_size=0.2, random_state=42)"
   ]
  },
  {
   "cell_type": "code",
   "execution_count": 8,
   "id": "6911bad9-6146-479b-af22-598b9ab18e81",
   "metadata": {},
   "outputs": [],
   "source": [
    "# 데이터 표준화\n",
    "scaler = StandardScaler()\n",
    "X_train = scaler.fit_transform(X_train)\n",
    "X_test = scaler.transform(X_test)"
   ]
  },
  {
   "cell_type": "code",
   "execution_count": 9,
   "id": "156b7fc2-c9ff-4a1a-9a6c-b19701b84ede",
   "metadata": {},
   "outputs": [
    {
     "name": "stdout",
     "output_type": "stream",
     "text": [
      "\n",
      "--- Decision Tree ---\n",
      "0.7541899441340782\n",
      "[[ 21   1  20   1]\n",
      " [  1  13   3   0]\n",
      " [ 15   3 101   0]\n",
      " [  0   0   0   0]]\n"
     ]
    }
   ],
   "source": [
    "# 모델 학습 및 평가\n",
    "# 결정 트리 학습 및 평가\n",
    "dt_model = DecisionTreeClassifier()\n",
    "dt_model.fit(X_train, y_train) # 학습\n",
    "\n",
    "dt_pred = dt_model.predict(X_test) # 예측\n",
    "\n",
    "print(\"\\n--- Decision Tree ---\")\n",
    "print(accuracy_score(y_test, dt_pred))\n",
    "print(confusion_matrix(y_test, dt_pred))"
   ]
  },
  {
   "cell_type": "code",
   "execution_count": 10,
   "id": "14a64b68-b4eb-468c-ad1e-454934095ada",
   "metadata": {},
   "outputs": [
    {
     "name": "stdout",
     "output_type": "stream",
     "text": [
      "\n",
      "--- Random Forest ---\n",
      "0.7374301675977654\n",
      "[[  8   0  35]\n",
      " [  0  11   6]\n",
      " [  4   2 113]]\n"
     ]
    }
   ],
   "source": [
    "# 랜덤 포레스트 학습 및 평가\n",
    "rf_model = RandomForestClassifier()\n",
    "rf_model.fit(X_train, y_train)\n",
    "\n",
    "rf_pred = rf_model.predict(X_test)\n",
    "\n",
    "print(\"\\n--- Random Forest ---\")\n",
    "print(accuracy_score(y_test, rf_pred))\n",
    "print(confusion_matrix(y_test, rf_pred))"
   ]
  },
  {
   "cell_type": "code",
   "execution_count": 11,
   "id": "cab96c82-447a-4cae-852e-25ce2ba9aa78",
   "metadata": {},
   "outputs": [
    {
     "name": "stdout",
     "output_type": "stream",
     "text": [
      "\n",
      "--- SVM ---\n",
      "0.6536312849162011\n",
      "[[  0   0  43]\n",
      " [  0   0  17]\n",
      " [  2   0 117]]\n"
     ]
    }
   ],
   "source": [
    "# SVM 학습 및 평가\n",
    "svm_model = SVC()\n",
    "svm_model.fit(X_train, y_train)\n",
    "\n",
    "svm_pred = svm_model.predict(X_test)\n",
    "\n",
    "print(\"\\n--- SVM ---\")\n",
    "print(accuracy_score(y_test, svm_pred))\n",
    "print(confusion_matrix(y_test, svm_pred))"
   ]
  },
  {
   "cell_type": "code",
   "execution_count": 12,
   "id": "de9fa364-c9a0-431f-8b0d-8fe90c39c376",
   "metadata": {},
   "outputs": [
    {
     "name": "stdout",
     "output_type": "stream",
     "text": [
      "\n",
      "--- Logistic regression ---\n",
      "0.6703910614525139\n",
      "[[  2   0  41]\n",
      " [  0   0  17]\n",
      " [  1   0 118]]\n"
     ]
    }
   ],
   "source": [
    "# 로지스틱 회귀 학습 및 평가\n",
    "lr_model = LogisticRegression(max_iter=200)\n",
    "lr_model.fit(X_train, y_train)\n",
    "\n",
    "lr_pred = lr_model.predict(X_test)\n",
    "\n",
    "print(\"\\n--- Logistic regression ---\")\n",
    "print(accuracy_score(y_test, lr_pred))\n",
    "print(confusion_matrix(y_test, lr_pred))"
   ]
  },
  {
   "cell_type": "code",
   "execution_count": 13,
   "id": "d8ed0339-c245-4eca-8d6a-7b607194ec24",
   "metadata": {},
   "outputs": [
    {
     "name": "stdout",
     "output_type": "stream",
     "text": [
      "\n",
      "--- KNN ---\n",
      "0.6871508379888268\n",
      "[[  8   1  34]\n",
      " [  2   8   7]\n",
      " [  9   3 107]]\n"
     ]
    }
   ],
   "source": [
    "# knn으로 붓꽃 분류\n",
    "\n",
    "from sklearn.neighbors import KNeighborsClassifier\n",
    "\n",
    "knn = KNeighborsClassifier(n_neighbors=5)\n",
    "knn.fit(X_train, y_train)\n",
    "\n",
    "# 5. 예측 및 평가\n",
    "y_pred = knn.predict(X_test)\n",
    "\n",
    "print(\"\\n--- KNN ---\")\n",
    "print(accuracy_score(y_test, y_pred))\n",
    "print(confusion_matrix(y_test, y_pred))"
   ]
  }
 ],
 "metadata": {
  "kernelspec": {
   "display_name": "Python 3 (ipykernel)",
   "language": "python",
   "name": "python3"
  },
  "language_info": {
   "codemirror_mode": {
    "name": "ipython",
    "version": 3
   },
   "file_extension": ".py",
   "mimetype": "text/x-python",
   "name": "python",
   "nbconvert_exporter": "python",
   "pygments_lexer": "ipython3",
   "version": "3.11.4"
  }
 },
 "nbformat": 4,
 "nbformat_minor": 5
}
