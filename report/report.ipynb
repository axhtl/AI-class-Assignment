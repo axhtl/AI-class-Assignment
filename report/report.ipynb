{
 "cells": [
  {
   "cell_type": "markdown",
   "id": "838ea1c8-d079-415c-86ee-c37e1a5f9442",
   "metadata": {},
   "source": [
    "### 인공지능 기초를 위한 FAQ 보고서"
   ]
  },
  {
   "cell_type": "raw",
   "id": "19d6caaf-b307-42a3-aefd-cb97e99b2493",
   "metadata": {},
   "source": [
    "1. 인공지능에서 지능에 해당하는 기능은 무엇인가?\n",
    "ㄴㅇ럼"
   ]
  }
 ],
 "metadata": {
  "kernelspec": {
   "display_name": "Python 3 (ipykernel)",
   "language": "python",
   "name": "python3"
  },
  "language_info": {
   "name": ""
  }
 },
 "nbformat": 4,
 "nbformat_minor": 5
}
